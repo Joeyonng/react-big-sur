{
 "cells": [
  {
   "cell_type": "code",
   "execution_count": 17,
   "id": "3e0a0ec0-236d-4ae6-84fc-b9c8298dd337",
   "metadata": {},
   "outputs": [],
   "source": [
    "import os\n",
    "\n",
    "for root, dirs, files in os.walk('./'):\n",
    "    for file in files:\n",
    "        if file.endswith('.js'):\n",
    "            name = file.split(\".\")[0]\n",
    "            md_path = os.path.join(root, f'{name}.md')\n",
    "            with open(md_path, 'w') as md:\n",
    "                md.write(f'```jsx static\\nimport {{{name}}} from \"react-big-sur\";\\n```')"
   ]
  },
  {
   "cell_type": "code",
   "execution_count": null,
   "id": "5d2b827e-6eb6-4e5d-8bd6-31c4f34689a6",
   "metadata": {},
   "outputs": [],
   "source": []
  }
 ],
 "metadata": {
  "kernelspec": {
   "display_name": "Python 3",
   "language": "python",
   "name": "python3"
  },
  "language_info": {
   "codemirror_mode": {
    "name": "ipython",
    "version": 3
   },
   "file_extension": ".py",
   "mimetype": "text/x-python",
   "name": "python",
   "nbconvert_exporter": "python",
   "pygments_lexer": "ipython3",
   "version": "3.8.10"
  }
 },
 "nbformat": 4,
 "nbformat_minor": 5
}
